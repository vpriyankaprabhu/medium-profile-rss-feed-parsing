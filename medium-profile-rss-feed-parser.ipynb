{
 "cells": [
  {
   "cell_type": "code",
   "execution_count": 105,
   "id": "7c4558c4-dbcf-427c-8de2-d5fb89a4e557",
   "metadata": {},
   "outputs": [
    {
     "name": "stdin",
     "output_type": "stream",
     "text": [
      "Enter the Medium username:  vpriyankaprabhu\n"
     ]
    },
    {
     "name": "stdout",
     "output_type": "stream",
     "text": [
      "\n",
      "Feed data from medium.com for vpriyankaprabhu has been saved to vpriyankaprabhu_medium_feed.txt file for analysis or reporting.\n",
      "\n",
      "Feed data from medium.com for vpriyankaprabhu has been saved to vpriyankaprabhu_medium_feed.json file for analysis or reporting.\n",
      "\n"
     ]
    },
    {
     "name": "stdin",
     "output_type": "stream",
     "text": [
      "Do you want to continue (Y/N) :  N\n"
     ]
    },
    {
     "name": "stdout",
     "output_type": "stream",
     "text": [
      "\n"
     ]
    }
   ],
   "source": [
    "import feedparser\n",
    "import json\n",
    "\n",
    "# Method to construct and parse rss url to fetch the user's feed details\n",
    "def construct_and_parse_rss_url(username):\n",
    "    # Construct the RSS feed URL for the given username\n",
    "    rss_url = f'https://medium.com/feed/@{username}'\n",
    "    \n",
    "    # Parse the RSS feed url\n",
    "    feed = feedparser.parse(rss_url)\n",
    "    \n",
    "    # Check if there are entries in the feed\n",
    "    if not feed.entries:\n",
    "        print(f\"\\nNo medium.com articles found for given user {username}.\\n\")\n",
    "        return None\n",
    "    else:\n",
    "        return feed\n",
    "\n",
    "# Method to save fetched medium user's feed details/entries in txt file format\n",
    "def save_medium_rss_feed_details_in_txt_format(feed, username):\n",
    "    # Save article details into a text file\n",
    "    with open(f'{username}_medium_feed.txt', 'w', encoding='utf-8') as file:\n",
    "        file.write(\"-\"*90 + \"\\n\\n\")\n",
    "        file.write(f\"{feed.feed.title}\\n\\n\")\n",
    "        file.write(f\"Author : {username}\\n\")\n",
    "        file.write(f\"Profile URL : {feed.feed.link}\\n\")\n",
    "        file.write(\"\\n\" + \"-\"*90 + \"\\n\\n\")\n",
    "        for entry in feed.entries:\n",
    "            title = entry.title\n",
    "            link = entry.link\n",
    "            published = entry.published\n",
    "            \n",
    "            # Write the article information to the file\n",
    "            file.write(f\"Title : {entry.title}\\n\")\n",
    "            file.write(f\"Link : {entry.link}\\n\")\n",
    "            file.write(f\"Published: {entry.published}\\n\")\n",
    "            file.write(\"\\n\" + \"-\"*90 + \"\\n\\n\")\n",
    "    \n",
    "    print(f\"\\nFeed data from medium.com for {username} has been saved to {username}_medium_feed.txt file for analysis or reporting.\\n\")\n",
    "\n",
    "# Method to save fetched medium user's feed details/entries in json file format\n",
    "def save_medium_rss_feed_details_in_json_format(feed, username):\n",
    "    # getting lists of feed.entries\n",
    "    medium_posts = feed.entries \n",
    "    \n",
    "    # dictionary for holding posts details \n",
    "    medium_posts_details = {\"Blog title\" : feed.feed.title, \n",
    "                            \"Blog link\" : feed.feed.link} \n",
    "    medium_post_list = [] \n",
    "\n",
    "    # iterating over individual posts \n",
    "    for post in medium_posts: \n",
    "        temp = dict() \n",
    "        \n",
    "        # if any post doesn't have information then throw error. \n",
    "        try: \n",
    "            temp[\"title\"] = post.title \n",
    "            temp[\"link\"] = post.link \n",
    "            temp[\"author\"] = post.author \n",
    "            temp[\"time_published\"] = post.published \n",
    "            temp[\"tags\"] = [tag.term for tag in post.tags] \n",
    "            temp[\"authors\"] = [author.name for author in post.authors] \n",
    "            temp[\"summary\"] = post.summary \n",
    "        except: \n",
    "            pass\n",
    "        \n",
    "        medium_post_list.append(temp) \n",
    "    \n",
    "    # storing lists of posts in the dictionary \n",
    "    medium_posts_details[\"posts\"] = medium_post_list \n",
    "    \n",
    "    # Save article details into a text file\n",
    "    with open(f'{username}_medium_feed.json', 'w', encoding='utf-8') as file:\n",
    "        file.write(json.dumps(medium_posts_details, indent=2))\n",
    "    \n",
    "    print(f\"Feed data from medium.com for {username} has been saved to {username}_medium_feed.json file for analysis or reporting.\\n\")\n",
    "\n",
    "def main():\n",
    "    do_you_want_to_continue = True\n",
    "    choice = 'Y'\n",
    "\n",
    "    while do_you_want_to_continue == True and choice == 'Y' :\n",
    "        # Fetch input data for a specific Medium profile username\n",
    "        username = input(\"Enter the Medium username: \")\n",
    "        feed = construct_and_parse_rss_url(username)\n",
    "        if(feed != None):\n",
    "            save_medium_rss_feed_details_in_txt_format(feed, username)\n",
    "            save_medium_rss_feed_details_in_json_format(feed, username)\n",
    "\n",
    "        choice = input(\"Do you want to continue (Y/N) : \").upper()\n",
    "        print()\n",
    "        if choice == 'Y':\n",
    "            do_you_want_to_continue = True\n",
    "        elif choice == 'N' :\n",
    "            do_you_want_to_continue = False\n",
    "        else :\n",
    "            print(\"Invalid choice, exiting...\")\n",
    "            break\n",
    "\n",
    "if __name__ == \"__main__\":\n",
    "    main()"
   ]
  },
  {
   "cell_type": "code",
   "execution_count": null,
   "id": "e66d25d8-d0bf-4d94-a549-e1ddf050814e",
   "metadata": {},
   "outputs": [],
   "source": []
  }
 ],
 "metadata": {
  "kernelspec": {
   "display_name": "Python 3 (ipykernel)",
   "language": "python",
   "name": "python3"
  },
  "language_info": {
   "codemirror_mode": {
    "name": "ipython",
    "version": 3
   },
   "file_extension": ".py",
   "mimetype": "text/x-python",
   "name": "python",
   "nbconvert_exporter": "python",
   "pygments_lexer": "ipython3",
   "version": "3.12.7"
  }
 },
 "nbformat": 4,
 "nbformat_minor": 5
}
